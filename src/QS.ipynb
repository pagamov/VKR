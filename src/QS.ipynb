{
 "cells": [
  {
   "cell_type": "code",
   "execution_count": 1,
   "id": "b421e572-c243-43fc-bcc7-dfc124505dd0",
   "metadata": {},
   "outputs": [],
   "source": [
    "# n = 104729 * 103591\n",
    "# step = 25000\n",
    "# B = 25000"
   ]
  },
  {
   "cell_type": "code",
   "execution_count": 2,
   "id": "2bbad970-7002-47ca-bfc7-c4286c8d1557",
   "metadata": {},
   "outputs": [],
   "source": [
    "n = 97 * 31\n",
    "n = 539873\n",
    "B = 30\n",
    "step = 100"
   ]
  },
  {
   "cell_type": "code",
   "execution_count": 3,
   "id": "782290a3-b64f-4839-83cf-2e4a830b28c1",
   "metadata": {},
   "outputs": [],
   "source": [
    "import decimal\n",
    "import numpy as np\n",
<<<<<<< HEAD
    "from time import time"
   ]
  },
  {
   "cell_type": "markdown",
   "id": "2d54ec95-84f1-49b4-97f2-0c8805e8f4c7",
   "metadata": {
    "tags": []
   },
   "source": [
    "## lib.py"
   ]
  },
  {
   "cell_type": "code",
   "execution_count": 4,
   "id": "33bdff9b-8e02-4276-a698-b6b53b1cfb2d",
   "metadata": {
    "tags": []
   },
   "outputs": [],
   "source": [
    "def GCD(m,n):\n",
    "    mult = 1\n",
    "    if m > n:\n",
    "        m = m % n\n",
    "    elif n > m:\n",
    "        n = n % m\n",
    "\n",
    "    while True:\n",
    "        if m == 0 or n == 0 or m == n:\n",
    "            return mult*max(n,m)\n",
    "        if m == 1 or n == 1:\n",
    "            return mult\n",
    "\n",
    "        mm2 = m % 2\n",
    "        nm2 = n % 2\n",
    "        if mm2 == 0 and nm2 == 0:\n",
    "            mult *= 2\n",
    "            m = m//2\n",
    "            n = n//2\n",
    "        elif mm2 == 0 and nm2 != 0:\n",
    "            m = m//2\n",
    "        elif mm2 != 0 and nm2 == 0:\n",
    "            n = n//2\n",
    "        elif mm2 != 0 and nm2 != 0:\n",
    "            if n > m:\n",
    "                piv = (n-m)//2\n",
    "                n = m\n",
    "                m = piv\n",
    "            elif n < m:\n",
    "                m = (m-n)//2"
   ]
  },
  {
   "cell_type": "code",
   "execution_count": 5,
   "id": "4b2e5e1f-3b8b-4ef9-bcad-8a2718b7e030",
   "metadata": {
    "tags": []
   },
   "outputs": [],
   "source": [
    "def eratosthenes(n):\n",
    "    numbers = list(range(2, n + 1))\n",
    "    for number in numbers:\n",
    "        if number != 0:\n",
    "            for candidate in range(2 * number, n+1, number):\n",
    "                numbers[candidate-2] = 0\n",
    "    return list(filter(lambda x: x != 0, numbers))"
   ]
  },
  {
   "cell_type": "code",
   "execution_count": 6,
   "id": "eed3f9d4-a654-48d9-bef4-8c627d28756a",
   "metadata": {
    "tags": []
   },
   "outputs": [],
   "source": [
    "class Q:\n",
    "    def __init__(self,n):\n",
    "        self.n = n\n",
    "        self.m = int(decimal.Decimal(n).sqrt() + 1)\n",
    "    def __call__(self,x):\n",
    "        return (x + self.m)**2 - self.n"
   ]
  },
  {
   "cell_type": "code",
   "execution_count": 7,
   "id": "19a01828-5cfc-4f8b-b1c8-3e1fb5ce38cc",
   "metadata": {
    "tags": []
   },
   "outputs": [],
   "source": [
    "def legendre(a, p):\n",
    "    return pow(a, (p - 1) // 2, p)"
   ]
  },
  {
   "cell_type": "code",
   "execution_count": 8,
   "id": "aa5e48b1-607a-4db4-be0d-9ebcdb8b9623",
   "metadata": {
    "tags": []
   },
   "outputs": [],
   "source": [
    "def tonelli(n, p):\n",
    "    assert legendre(n, p) == 1, \"not a square (mod p)\"\n",
    "    q = p - 1\n",
    "    s = 0\n",
    "    while q % 2 == 0:\n",
    "        q //= 2\n",
    "        s += 1\n",
    "    if s == 1:\n",
    "        return pow(n, (p + 1) // 4, p)\n",
    "\n",
    "    z = 2\n",
    "    for z in range(2, p):\n",
    "        if p - 1 == legendre(z, p):\n",
    "            break\n",
    "    c = pow(z, q, p)\n",
    "    r = pow(n, (q + 1) // 2, p)\n",
    "    t = pow(n, q, p)\n",
    "    m = s\n",
    "    t2 = 0\n",
    "    while (t - 1) % p != 0:\n",
    "        t2 = (t * t) % p\n",
    "        for i in range(1, m):\n",
    "            if (t2 - 1) % p == 0:\n",
    "                break\n",
    "            t2 = (t2 * t2) % p\n",
    "        b = pow(c, 1 << (m - i - 1), p)\n",
    "        r = (r * b) % p\n",
    "        c = (b * b) % p\n",
    "        t = (t * c) % p\n",
    "        m = i\n",
    "    return r"
   ]
  },
  {
   "cell_type": "code",
   "execution_count": 9,
   "id": "6b92e55f-a151-4fad-806d-81d46ad005df",
   "metadata": {},
   "outputs": [],
   "source": [
    "def smooth_region(L1, L2, q, primes):\n",
    "    res0 = list(range(L1, L2))\n",
    "    res1 = np.array([q(x) for x in range(L1, L2)])\n",
    "    res2 = np.zeros((len(res0), len(primes)), dtype=\"int8\")\n",
    "\n",
    "    s = [[] for _ in range(len(primes.r))]\n",
    "    for smooth_idx, prime in enumerate(primes):\n",
    "        for r in primes.r[smooth_idx]:\n",
    "            k = L1 // prime\n",
    "            while r + k*prime >= L1:\n",
    "                k -= 1\n",
    "            k+=1\n",
    "            s[smooth_idx].append(r + k*prime)\n",
    "\n",
    "    for prime_idx, prime in enumerate(primes):\n",
    "        for s_i in s[prime_idx]:\n",
    "            if s_i < L2:\n",
    "                # гарантируем что начиная с s_1 - L1, каждое число через prime\n",
    "                # делится на этот prime хотя бы 1 раз\n",
    "                res2[s_i - L1::prime, prime_idx] += 1\n",
    "                res1[s_i - L1::prime] //= prime\n",
    "                # дальнешее деление проверяется вручную\n",
    "                for smooth_idx in range(s_i, L2, prime):\n",
    "                    x = smooth_idx - L1\n",
    "                    while res1[x] % prime == 0:\n",
    "                        res1[x] //= prime\n",
    "                        res2[x, prime_idx] += 1\n",
    "\n",
    "    ans = []\n",
    "    for smooth_idx, qx in enumerate(res1):\n",
    "        if abs(qx) == 1:\n",
    "            ans.append([res0[smooth_idx],q(res0[smooth_idx]),np.copy(res2[smooth_idx])])\n",
    "            \n",
    "    return ans"
=======
    "from time import time\n",
    "from QSlib import *\n",
    "import pandas as pd"
>>>>>>> ce1886ec36235bf7b1c38545d64ccaf57c64e6b5
   ]
  },
  {
   "cell_type": "markdown",
   "id": "88ce42d6-5e1f-4647-aa27-8a899ff58e0c",
   "metadata": {
    "tags": []
   },
   "source": [
    "## Primes"
   ]
  },
  {
   "cell_type": "code",
<<<<<<< HEAD
   "execution_count": 10,
=======
   "execution_count": 4,
>>>>>>> ce1886ec36235bf7b1c38545d64ccaf57c64e6b5
   "id": "273d4a54-31c0-4460-8fa7-f180389d37c8",
   "metadata": {
    "tags": []
   },
   "outputs": [],
   "source": [
    "class Primes:\n",
    "    def __init__(self, n, B, q):\n",
    "        primes = eratosthenes(B)\n",
    "        self.p = []\n",
    "        self.r = []\n",
    "        q = Q(n)\n",
    "\n",
    "        if legendre(n % primes[0], primes[0]) == 1:\n",
    "            tr = tonelli(n,primes[0])\n",
    "            r = [(tr - q.m) % primes[0]]\n",
    "            self.p.append(primes[0])\n",
    "            self.r.append(r)\n",
    "\n",
    "        # Для каждого прайма проверяем Лежандра и находим корни Тонелли Шенксом\n",
    "        for i in range(1,len(primes)):\n",
    "            if legendre(n % primes[i], primes[i]) == 1:\n",
    "                tr = tonelli(n,primes[i])\n",
    "                r = [(tr - q.m) % primes[i],(primes[i] - tr - q.m) % primes[i]]\n",
    "                self.p.append(primes[i])\n",
    "                self.r.append(r)\n",
    "\n",
    "        print(\"primes len\",len(self.p))\n",
    "    def __getitem__(self,i):\n",
    "        return self.p[i]\n",
    "    def __len__(self):\n",
    "        return len(self.p)"
   ]
  },
  {
   "cell_type": "markdown",
   "id": "f62b9797-8860-4571-9de2-24ae8146a206",
   "metadata": {
    "tags": []
   },
   "source": [
    "## Sieve"
   ]
  },
  {
   "cell_type": "code",
<<<<<<< HEAD
   "execution_count": 12,
=======
   "execution_count": 5,
>>>>>>> ce1886ec36235bf7b1c38545d64ccaf57c64e6b5
   "id": "a778fed7-c491-49a7-8860-7eae58cd71ab",
   "metadata": {
    "tags": []
   },
   "outputs": [],
   "source": [
    "def suive(q, primes):\n",
    "    print(\"step:\",step)\n",
    "    k = 1\n",
    "    # found_smooth = 0\n",
    "    smooth_numbers = []\n",
    "    while q((k-1)*step) < n:\n",
    "        ans = smooth_region((k-1)*step,k*step,q,primes)\n",
    "        for i in range(len(ans)):\n",
    "            smooth_numbers.append(ans[i])\n",
    "        ans = smooth_region(-k*step,-(k-1)*step,q,primes)\n",
    "        for i in range(len(ans)):\n",
    "            smooth_numbers.append(ans[i])\n",
    "        k+=1\n",
    "        print(\"Total number of smooth numbers:\",len(smooth_numbers))\n",
    "        if len(smooth_numbers) > len(primes):\n",
    "            # Выброс из функции\n",
    "            return smooth_numbers"
   ]
  },
  {
   "cell_type": "markdown",
   "id": "b4aba8ac-6994-481d-aa00-68e1a9feac09",
   "metadata": {},
   "source": [
    "## Matrix solver"
   ]
  },
  {
   "cell_type": "code",
<<<<<<< HEAD
   "execution_count": 39,
=======
   "execution_count": 6,
>>>>>>> ce1886ec36235bf7b1c38545d64ccaf57c64e6b5
   "id": "3e2ae0f5-c1d8-47b7-93fc-efe037eeadd3",
   "metadata": {},
   "outputs": [],
   "source": [
    "class Matrix_solver:\n",
    "    def __init__(self, primes, n):\n",
    "        self.matrix = []\n",
    "        self.primes = primes\n",
    "        self.num_smooth_numbers = 0\n",
<<<<<<< HEAD
    "#         self.matrix = np.zeros((len(primes), len(primes)), dtype='uint8')\n",
    "        self.matrix = []\n",
    "\n",
    "    def add(self, smooth_number):\n",
    "#         if (self.num_smooth_numbers < len(self.primes) + 1):\n",
    "#             return False\n",
    "#         self.matrix[:,self.num_smooth_numbers] = smooth_number\n",
    "        self.matrix.append(smooth_number)\n",
=======
    "        self.n = n\n",
    "        self.m = int(decimal.Decimal(n).sqrt() + 1)\n",
    "\n",
    "    def add(self, smooth_number):\n",
    "        if(self.num_smooth_numbers == len(self.primes) + 2):\n",
    "            return False\n",
    "        self.matrix.append([smooth_number[0]] + [smooth_number[1]] + [list(smooth_number[2])] + \n",
    "                           [[self.num_smooth_numbers]] + [self.m + smooth_number[0]] + [list(smooth_number[2])] + [1])\n",
>>>>>>> ce1886ec36235bf7b1c38545d64ccaf57c64e6b5
    "        self.num_smooth_numbers += 1\n",
    "\n",
    "    def display(self):\n",
    "        df = pd.DataFrame(self.matrix, columns=['i','q()','razl','del','1','1','1'])\n",
    "        print(df, df.shape)\n",
    "\n",
    "    def solve(self, smooth_numbers):\n",
    "        self.display()\n",
    "        print('----')\n",
    "        \n",
    "        for line in self.matrix:\n",
    "            for i, item in enumerate(line[2]):\n",
    "                line[2][i] = line[2][i] % 2\n",
    "\n",
    "        ans = [None,None]\n",
    "        \n",
    "        visited = []\n",
    "        for j in range(len(self.matrix[0][2])):\n",
    "            \n",
    "            piv = -1\n",
    "            for i in range(len(self.matrix)):\n",
    "                if i not in visited and self.matrix[i][2][j] == 1:\n",
    "                    visited.append(i)\n",
    "                    piv = i\n",
    "                    break\n",
    "            if piv != -1:\n",
    "                for i in range(len(self.matrix)):\n",
    "                    if i != piv and self.matrix[i][2][j] == 1:\n",
    "                        for k in range(0, len(self.matrix[0][2])):\n",
    "                            self.matrix[i][2][k] = (self.matrix[i][2][k] + self.matrix[piv][2][k]) % 2\n",
    "                            \n",
    "                        for k in range(0, len(self.matrix[0][2])):\n",
    "                            self.matrix[i][5][k] += self.matrix[piv][5][k]\n",
    "                            \n",
    "                        self.matrix[i][3].append(self.matrix[piv][3][0])\n",
    "                        self.matrix[i][4] *= self.m + self.matrix[piv][0]\n",
    "            else:\n",
    "                pass\n",
    "        \n",
    "        \n",
    "        for i in range(len(self.matrix)):\n",
    "            if 1 not in self.matrix[i][2]:\n",
    "                for j in range(len(self.primes)):\n",
    "                    self.matrix[i][5][j] //= 2\n",
    "                for j in range(len(self.primes)):\n",
    "                    if self.matrix[i][5][j] != 0:\n",
    "                        self.matrix[i][6] *= self.primes[j] ** self.matrix[i][5][j]\n",
    "\n",
    "                right = self.matrix[i][6]\n",
    "                left = self.matrix[i][4]\n",
    "\n",
    "                gcd = min(GCD(abs(int(left+right)), n), GCD(abs(int(left-right)), n))\n",
    "                if gcd > 1:\n",
    "                    ans = [gcd, n//gcd]\n",
    "                    break\n",
    "                    \n",
    "        self.display()\n",
    "        return ans"
   ]
  },
  {
   "cell_type": "markdown",
   "id": "416b1fa1-66c1-4c37-ab08-264c261e532a",
   "metadata": {},
   "source": [
    "## Factor"
   ]
  },
  {
   "cell_type": "code",
<<<<<<< HEAD
   "execution_count": 40,
=======
   "execution_count": 7,
>>>>>>> ce1886ec36235bf7b1c38545d64ccaf57c64e6b5
   "id": "72cd33f2-e69f-46a5-9b7d-562a73e85b33",
   "metadata": {},
   "outputs": [],
   "source": [
    "def Factor(n,B):\n",
    "    pass"
   ]
  },
  {
   "cell_type": "markdown",
   "id": "63c2b005-8e1b-4ef1-ae8b-4a458d451e77",
   "metadata": {
    "tags": []
   },
   "source": [
    "## index"
   ]
  },
  {
   "cell_type": "code",
<<<<<<< HEAD
   "execution_count": 53,
   "id": "dbe09718-a456-4514-99ee-0d5916a1937b",
=======
   "execution_count": 8,
   "id": "40fcaee2-6a04-446b-a829-d14343710d66",
>>>>>>> ce1886ec36235bf7b1c38545d64ccaf57c64e6b5
   "metadata": {},
   "outputs": [
    {
     "name": "stdout",
     "output_type": "stream",
     "text": [
      "primes len 6\n",
      "step: 100\n",
      "Total number of smooth numbers: 12\n"
     ]
    }
   ],
   "source": [
    "q = Q(n)\n",
    "primes = Primes(n,B,q)\n",
<<<<<<< HEAD
    "len(primes)\n",
    "smooth_numbers = suive(q,primes)"
   ]
  },
  {
   "cell_type": "code",
   "execution_count": 49,
   "id": "2ed58710-c2d3-4f02-bea7-79cc00c18ff8",
   "metadata": {},
   "outputs": [],
   "source": [
    "# smooth_numbers"
=======
    "smooth_numbers = suive(q,primes)\n",
    "matrix = Matrix_solver(primes.p, n)"
>>>>>>> ce1886ec36235bf7b1c38545d64ccaf57c64e6b5
   ]
  },
  {
   "cell_type": "code",
<<<<<<< HEAD
   "execution_count": 50,
   "id": "40fcaee2-6a04-446b-a829-d14343710d66",
   "metadata": {},
   "outputs": [],
   "source": [
    "matrix = Matrix_solver(primes.p)"
   ]
  },
  {
   "cell_type": "code",
   "execution_count": 51,
=======
   "execution_count": 9,
>>>>>>> ce1886ec36235bf7b1c38545d64ccaf57c64e6b5
   "id": "3f1bd999-964a-4a8a-a17c-32fb1c599722",
   "metadata": {},
   "outputs": [],
   "source": [
    "for smooth in smooth_numbers:\n",
<<<<<<< HEAD
    "    matrix.add(list(smooth[2]))"
   ]
  },
  {
   "cell_type": "code",
   "execution_count": 52,
   "id": "c5773516-7b15-4204-b9dc-70843cb11747",
   "metadata": {},
   "outputs": [
    {
     "data": {
      "text/plain": [
       "[[1, 2, 0, 0, 0, 0, 0, 0],\n",
       " [1, 0, 0, 2, 0, 0, 0, 0],\n",
       " [0, 1, 1, 0, 0, 1, 0, 0],\n",
       " [1, 1, 1, 0, 0, 1, 0, 0],\n",
       " [0, 2, 0, 2, 0, 0, 0, 0],\n",
       " [1, 1, 1, 0, 0, 0, 0, 1],\n",
       " [1, 1, 0, 0, 1, 0, 1, 0],\n",
       " [0, 1, 2, 1, 0, 0, 0, 0],\n",
       " [1, 0, 1, 1, 0, 1, 0, 0],\n",
       " [1, 1, 2, 1, 0, 0, 0, 0],\n",
       " [0, 2, 0, 0, 1, 0, 0, 1],\n",
       " [0, 1, 1, 1, 0, 0, 1, 0],\n",
       " [1, 3, 1, 0, 1, 0, 0, 0],\n",
       " [1, 1, 0, 0, 0, 1, 0, 1],\n",
       " [1, 0, 1, 1, 0, 0, 1, 0],\n",
       " [0, 2, 0, 0, 0, 1, 1, 0],\n",
       " [1, 3, 2, 0, 0, 0, 0, 0],\n",
       " [0, 1, 0, 0, 0, 0, 0, 2],\n",
       " [0, 0, 0, 1, 1, 1, 0, 0],\n",
       " [0, 2, 0, 0, 1, 0, 1, 0],\n",
       " [1, 1, 0, 0, 0, 0, 2, 0],\n",
       " [1, 4, 0, 1, 0, 0, 0, 0],\n",
       " [1, 2, 1, 0, 1, 0, 0, 0],\n",
       " [1, 1, 0, 0, 1, 1, 0, 0],\n",
       " [0, 2, 1, 0, 0, 1, 0, 0],\n",
       " [0, 4, 0, 1, 0, 0, 0, 0],\n",
       " [1, 1, 1, 0, 0, 0, 1, 0],\n",
       " [0, 1, 0, 0, 2, 0, 0, 0],\n",
       " [1, 0, 1, 0, 0, 0, 0, 1],\n",
       " [1, 2, 0, 1, 0, 0, 0, 0],\n",
       " [0, 0, 1, 0, 1, 0, 0, 0]]"
      ]
     },
     "execution_count": 52,
     "metadata": {},
     "output_type": "execute_result"
    }
   ],
   "source": [
    "matrix.matrix"
=======
    "    matrix.add(smooth)"
>>>>>>> ce1886ec36235bf7b1c38545d64ccaf57c64e6b5
   ]
  },
  {
   "cell_type": "code",
<<<<<<< HEAD
   "execution_count": 37,
   "id": "80c0b4c6-ebb7-42e8-87a3-b1eb0f5e2117",
=======
   "execution_count": 10,
   "id": "84d97dc6-5021-4498-8fd6-035d6f1f764c",
>>>>>>> ce1886ec36235bf7b1c38545d64ccaf57c64e6b5
   "metadata": {},
   "outputs": [
    {
     "ename": "NameError",
     "evalue": "name 'lineal_rows' is not defined",
     "output_type": "error",
     "traceback": [
      "\u001b[0;31m---------------------------------------------------------------------------\u001b[0m",
      "\u001b[0;31mNameError\u001b[0m                                 Traceback (most recent call last)",
      "\u001b[0;32m/var/folders/cy/d5k9cd4x21d3hhd6p2xgg9sw0000gn/T/ipykernel_63229/260557916.py\u001b[0m in \u001b[0;36m<module>\u001b[0;34m\u001b[0m\n\u001b[1;32m      1\u001b[0m \u001b[0;31m# # possibe outcome [None,None] or if we LUCKY give ans as [gcd,n//gcd]\u001b[0m\u001b[0;34m\u001b[0m\u001b[0;34m\u001b[0m\u001b[0;34m\u001b[0m\u001b[0m\n\u001b[0;32m----> 2\u001b[0;31m \u001b[0msolve\u001b[0m \u001b[0;34m=\u001b[0m \u001b[0mmatrix\u001b[0m\u001b[0;34m.\u001b[0m\u001b[0msolve\u001b[0m\u001b[0;34m(\u001b[0m\u001b[0msmooth_numbers\u001b[0m\u001b[0;34m)\u001b[0m\u001b[0;34m\u001b[0m\u001b[0;34m\u001b[0m\u001b[0m\n\u001b[0m",
      "\u001b[0;32m/var/folders/cy/d5k9cd4x21d3hhd6p2xgg9sw0000gn/T/ipykernel_63229/888473011.py\u001b[0m in \u001b[0;36msolve\u001b[0;34m(self, smooth_numbers)\u001b[0m\n\u001b[1;32m     19\u001b[0m \u001b[0;31m#         lineal_rows = gaus_solve(self.matrix)\u001b[0m\u001b[0;34m\u001b[0m\u001b[0;34m\u001b[0m\u001b[0;34m\u001b[0m\u001b[0m\n\u001b[1;32m     20\u001b[0m \u001b[0;34m\u001b[0m\u001b[0m\n\u001b[0;32m---> 21\u001b[0;31m         \u001b[0;32mfor\u001b[0m \u001b[0mzero_column\u001b[0m \u001b[0;32min\u001b[0m \u001b[0mrange\u001b[0m\u001b[0;34m(\u001b[0m\u001b[0mlen\u001b[0m\u001b[0;34m(\u001b[0m\u001b[0mlineal_rows\u001b[0m\u001b[0;34m[\u001b[0m\u001b[0;36m0\u001b[0m\u001b[0;34m]\u001b[0m\u001b[0;34m)\u001b[0m\u001b[0;34m)\u001b[0m\u001b[0;34m:\u001b[0m\u001b[0;34m\u001b[0m\u001b[0;34m\u001b[0m\u001b[0m\n\u001b[0m\u001b[1;32m     22\u001b[0m             \u001b[0mb\u001b[0m \u001b[0;34m=\u001b[0m \u001b[0;34m[\u001b[0m\u001b[0;34m]\u001b[0m \u001b[0;31m#indexes of smooth numbers i guess\u001b[0m\u001b[0;34m\u001b[0m\u001b[0;34m\u001b[0m\u001b[0m\n\u001b[1;32m     23\u001b[0m             \u001b[0;32mfor\u001b[0m \u001b[0mi\u001b[0m \u001b[0;32min\u001b[0m \u001b[0mrange\u001b[0m\u001b[0;34m(\u001b[0m\u001b[0mlen\u001b[0m\u001b[0;34m(\u001b[0m\u001b[0mlineal_rows\u001b[0m\u001b[0;34m)\u001b[0m\u001b[0;34m)\u001b[0m\u001b[0;34m:\u001b[0m\u001b[0;34m\u001b[0m\u001b[0;34m\u001b[0m\u001b[0m\n",
      "\u001b[0;31mNameError\u001b[0m: name 'lineal_rows' is not defined"
     ]
    }
   ],
   "source": [
<<<<<<< HEAD
    "# # possibe outcome [None,None] or if we LUCKY give ans as [gcd,n//gcd]\n",
    "solve = matrix.solve(smooth_numbers)"
   ]
  },
  {
   "cell_type": "code",
   "execution_count": 20,
   "id": "05a4156f-d0e4-45f8-ad5c-f3db7a280d5e",
   "metadata": {},
   "outputs": [
    {
     "name": "stdout",
     "output_type": "stream",
     "text": [
      "[2, 3, 7, 11, 13, 17, 19, 29]\n"
     ]
    }
   ],
   "source": [
    "print(primes.p)"
=======
    "pd.options.display.expand_frame_repr = False"
>>>>>>> ce1886ec36235bf7b1c38545d64ccaf57c64e6b5
   ]
  },
  {
   "cell_type": "code",
<<<<<<< HEAD
   "execution_count": 21,
   "id": "5068ba6c-fe4e-4abe-a37d-a8e56e281d19",
=======
   "execution_count": 11,
   "id": "80c0b4c6-ebb7-42e8-87a3-b1eb0f5e2117",
>>>>>>> ce1886ec36235bf7b1c38545d64ccaf57c64e6b5
   "metadata": {},
   "outputs": [
    {
     "name": "stdout",
     "output_type": "stream",
     "text": [
      "    i     q()                razl  del    1                   1  1\n",
      "0   0     352  [5, 1, 0, 0, 0, 0]  [0]  735  [5, 1, 0, 0, 0, 0]  1\n",
      "1  15   22627  [0, 3, 0, 1, 0, 0]  [1]  750  [0, 3, 0, 1, 0, 0]  1\n",
      "2  16   24128  [6, 0, 1, 0, 0, 1]  [2]  751  [6, 0, 1, 0, 0, 1]  1\n",
      "3  22   33176  [3, 1, 1, 0, 0, 1]  [3]  757  [3, 1, 1, 0, 0, 1]  1\n",
      "4  48   73216  [9, 1, 1, 0, 0, 0]  [4]  783  [9, 1, 1, 0, 0, 0]  1\n",
      "5  66  101728  [5, 1, 0, 2, 0, 0]  [5]  801  [5, 1, 0, 2, 0, 0]  1\n",
      "6  74  114608  [4, 0, 1, 0, 1, 1]  [6]  809  [4, 0, 1, 0, 1, 1]  1\n",
      "7 -62  -86944  [5, 1, 1, 0, 1, 0]  [7]  673  [5, 1, 1, 0, 1, 0]  1 (8, 7)\n",
      "----\n",
      "    i     q()                razl              del                1                    1       1\n",
      "0   0     352  [1, 0, 0, 1, 0, 0]           [0, 1]           551250   [5, 4, 0, 1, 0, 0]       1\n",
      "1  15   22627  [0, 1, 0, 1, 0, 0]              [1]              750   [0, 3, 0, 1, 0, 0]       1\n",
      "2  16   24128  [0, 0, 1, 0, 0, 0]           [2, 4]           588033  [26, 2, 3, 0, 0, 2]       1\n",
      "3  22   33176  [0, 0, 0, 0, 0, 0]        [3, 0, 2]        417852645   [7, 1, 1, 0, 0, 1]  530816\n",
      "4  48   73216  [0, 0, 0, 0, 0, 1]        [4, 0, 2]        432204255  [20, 2, 2, 0, 0, 1]       1\n",
      "5  66  101728  [0, 0, 0, 0, 0, 0]           [5, 0]           588735   [5, 1, 0, 1, 0, 0]    5984\n",
      "6  74  114608  [0, 0, 0, 0, 1, 0]           [6, 2]           607559  [10, 0, 2, 0, 1, 2]       1\n",
      "7 -62  -86944  [0, 0, 0, 0, 0, 0]  [7, 0, 2, 6, 4]  235316632064535  [46, 4, 6, 0, 2, 4]       1 (8, 7)\n"
     ]
<<<<<<< HEAD
    }
   ],
   "source": [
    "print(primes.r)"
   ]
  },
  {
   "cell_type": "code",
   "execution_count": 22,
   "id": "f3a77fcb-58d5-4725-9c69-f688e3d31f06",
   "metadata": {},
   "outputs": [
=======
    },
>>>>>>> ce1886ec36235bf7b1c38545d64ccaf57c64e6b5
    {
     "data": {
      "text/plain": [
       "[277, 1949]"
      ]
     },
<<<<<<< HEAD
     "execution_count": 22,
=======
     "execution_count": 11,
>>>>>>> ce1886ec36235bf7b1c38545d64ccaf57c64e6b5
     "metadata": {},
     "output_type": "execute_result"
    }
   ],
   "source": [
    "# possibe outcome [None,None] or if we LUCKY give ans as [gcd,n//gcd]\n",
    "solve = matrix.solve(smooth_numbers)\n",
    "solve"
   ]
  },
  {
   "cell_type": "code",
   "execution_count": null,
   "id": "b40459b5-cba8-4d3b-8295-bba37c17b6f7",
   "metadata": {},
   "outputs": [],
   "source": []
  }
 ],
 "metadata": {
  "kernelspec": {
   "display_name": "Python 3 (ipykernel)",
   "language": "python",
   "name": "python3"
  },
  "language_info": {
   "codemirror_mode": {
    "name": "ipython",
    "version": 3
   },
   "file_extension": ".py",
   "mimetype": "text/x-python",
   "name": "python",
   "nbconvert_exporter": "python",
   "pygments_lexer": "ipython3",
   "version": "3.9.1"
  }
 },
 "nbformat": 4,
 "nbformat_minor": 5
}
