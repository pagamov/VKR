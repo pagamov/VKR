{
 "cells": [
  {
   "cell_type": "code",
   "execution_count": 14,
   "id": "b421e572-c243-43fc-bcc7-dfc124505dd0",
   "metadata": {},
   "outputs": [],
   "source": [
    "# n = 104729 * 103591\n",
    "# step = 25000\n",
    "# B = 25000"
   ]
  },
  {
   "cell_type": "code",
   "execution_count": 15,
   "id": "2bbad970-7002-47ca-bfc7-c4286c8d1557",
   "metadata": {},
   "outputs": [],
   "source": [
    "n = 97 * 31\n",
    "n = 389 * 401\n",
    "n = 72869 * 401\n",
    "B = 300\n",
    "step = 100"
   ]
  },
  {
   "cell_type": "code",
   "execution_count": 16,
   "id": "782290a3-b64f-4839-83cf-2e4a830b28c1",
   "metadata": {},
   "outputs": [],
   "source": [
    "import decimal\n",
    "import numpy as np\n",
    "from time import time\n",
    "from QSlib import *\n",
    "import pandas as pd"
   ]
  },
  {
   "cell_type": "markdown",
   "id": "88ce42d6-5e1f-4647-aa27-8a899ff58e0c",
   "metadata": {
    "tags": []
   },
   "source": [
    "## Primes"
   ]
  },
  {
   "cell_type": "code",
   "execution_count": 22,
   "id": "273d4a54-31c0-4460-8fa7-f180389d37c8",
   "metadata": {
    "tags": []
   },
   "outputs": [],
   "source": [
    "class Primes:\n",
    "    def __init__(self, n, B, q):\n",
    "#         eratosthenes\n",
    "        numbers = list(range(2, B + 1)) # changed from 2 to 3\n",
    "        for number in numbers:\n",
    "            if number != 0:\n",
    "                for candidate in range(2 * number, B+1, number):\n",
    "                    numbers[candidate-2] = 0\n",
    "        primes = list(filter(lambda x: x != 0, numbers))\n",
    "        \n",
    "        self.p = []\n",
    "        self.r = []\n",
    "        q = Q(n)\n",
    "\n",
    "#         for 2 only у него один корень\n",
    "        if legendre(n % primes[0], primes[0]) == 1:\n",
    "            tr = tonelli(n,primes[0])\n",
    "            r = [(tr - q.m) % primes[0]]\n",
    "            self.p.append(primes[0])\n",
    "            self.r.append(r)\n",
    "\n",
    "        # Для каждого прайма проверяем Лежандра и находим корни Тонелли Шенксом\n",
    "        for i in range(1,len(primes)):\n",
    "            if legendre(n % primes[i], primes[i]) == 1:\n",
    "                tr = tonelli(n,primes[i])\n",
    "                r = [(tr - q.m) % primes[i],(primes[i] - tr - q.m) % primes[i]]\n",
    "                self.p.append(primes[i])\n",
    "                self.r.append(r)\n",
    "\n",
    "        print(\"primes len\",len(self.p))\n",
    "    def __getitem__(self,i):\n",
    "        return self.p[i]\n",
    "    def __len__(self):\n",
    "        return len(self.p)"
   ]
  },
  {
   "cell_type": "markdown",
   "id": "f62b9797-8860-4571-9de2-24ae8146a206",
   "metadata": {
    "tags": []
   },
   "source": [
    "## Sieve"
   ]
  },
  {
   "cell_type": "code",
   "execution_count": 18,
   "id": "a778fed7-c491-49a7-8860-7eae58cd71ab",
   "metadata": {
    "tags": []
   },
   "outputs": [],
   "source": [
    "def suive(q, primes):\n",
    "    print(\"step:\",step)\n",
    "    k = 1\n",
    "    smooth_numbers = []\n",
    "    while q((k-1)*step) < n:\n",
    "        ans = smooth_region((k-1)*step,k*step,q,primes)\n",
    "        for i in range(len(ans)):\n",
    "            smooth_numbers.append(ans[i])\n",
    "        ans = smooth_region(-k*step,-(k-1)*step,q,primes)\n",
    "        for i in range(len(ans)):\n",
    "            smooth_numbers.append(ans[i])\n",
    "        k+=1\n",
    "        print(\"Total number of smooth numbers:\",len(smooth_numbers))\n",
    "        if len(smooth_numbers) > len(primes):\n",
    "            # Выброс из функции\n",
    "            return smooth_numbers"
   ]
  },
  {
   "cell_type": "markdown",
   "id": "b4aba8ac-6994-481d-aa00-68e1a9feac09",
   "metadata": {},
   "source": [
    "## Matrix solver"
   ]
  },
  {
   "cell_type": "code",
   "execution_count": 19,
   "id": "3e2ae0f5-c1d8-47b7-93fc-efe037eeadd3",
   "metadata": {},
   "outputs": [],
   "source": [
    "class Matrix_solver:\n",
    "    def __init__(self, primes, n):\n",
    "        self.matrix = []\n",
    "        self.primes = primes\n",
    "        self.num_smooth_numbers = 0\n",
    "        self.n = n\n",
    "        self.m = int(decimal.Decimal(n).sqrt() + 1)\n",
    "\n",
    "    def add(self, smooth_number):\n",
    "        if(self.num_smooth_numbers == len(self.primes) + 2):\n",
    "            return False\n",
    "        self.matrix.append([smooth_number[0]] + [smooth_number[1]] + [list(smooth_number[2])] + \n",
    "                           [[self.num_smooth_numbers]] + [self.m + smooth_number[0]] + [list(smooth_number[2])] + [1])\n",
    "        self.num_smooth_numbers += 1\n",
    "\n",
    "    def display(self):\n",
    "        df = pd.DataFrame(self.matrix, columns=['i','q()','razl','del','1','1','1'])\n",
    "        print(df, df.shape)\n",
    "\n",
    "    def solve(self, smooth_numbers):\n",
    "        self.display()\n",
    "        print('----')\n",
    "        \n",
    "        for line in self.matrix:\n",
    "            for i, item in enumerate(line[2]):\n",
    "                line[2][i] = line[2][i] % 2\n",
    "\n",
    "        ans = [None,None]\n",
    "        \n",
    "        visited = []\n",
    "        for j in range(len(self.matrix[0][2])):\n",
    "            \n",
    "            piv = -1\n",
    "            for i in range(len(self.matrix)):\n",
    "                if i not in visited and self.matrix[i][2][j] == 1:\n",
    "                    visited.append(i)\n",
    "                    piv = i\n",
    "                    break\n",
    "            if piv != -1:\n",
    "                for i in range(len(self.matrix)):\n",
    "                    if i != piv and self.matrix[i][2][j] == 1:\n",
    "                        for k in range(0, len(self.matrix[0][2])):\n",
    "                            self.matrix[i][2][k] = (self.matrix[i][2][k] + self.matrix[piv][2][k]) % 2\n",
    "                            \n",
    "                        for k in range(0, len(self.matrix[0][2])):\n",
    "                            self.matrix[i][5][k] += self.matrix[piv][5][k]\n",
    "                            \n",
    "                        self.matrix[i][3].append(self.matrix[piv][3][0])\n",
    "                        self.matrix[i][4] *= self.m + self.matrix[piv][0]\n",
    "            else:\n",
    "                pass\n",
    "        \n",
    "        \n",
    "        for i in range(len(self.matrix)):\n",
    "            if 1 not in self.matrix[i][2]:\n",
    "                for j in range(len(self.primes)):\n",
    "                    self.matrix[i][5][j] //= 2\n",
    "                for j in range(len(self.primes)):\n",
    "                    if self.matrix[i][5][j] != 0:\n",
    "                        self.matrix[i][6] *= self.primes[j] ** self.matrix[i][5][j]\n",
    "\n",
    "                right = self.matrix[i][6]\n",
    "                left = self.matrix[i][4]\n",
    "\n",
    "                gcd = min(GCD(abs(int(left+right)), n), GCD(abs(int(left-right)), n))\n",
    "                if gcd > 1:\n",
    "                    ans = [gcd, n//gcd]\n",
    "                    break\n",
    "                    \n",
    "        self.display()\n",
    "        return ans"
   ]
  },
  {
   "cell_type": "markdown",
   "id": "416b1fa1-66c1-4c37-ab08-264c261e532a",
   "metadata": {},
   "source": [
    "## Factor"
   ]
  },
  {
   "cell_type": "code",
   "execution_count": 20,
   "id": "72cd33f2-e69f-46a5-9b7d-562a73e85b33",
   "metadata": {},
   "outputs": [],
   "source": [
    "def Factor(n,B):\n",
    "    q = Q(n)\n",
    "    primes = Primes(n,B,q)\n",
    "    smooth_numbers = suive(q,primes)\n",
    "    matrix = Matrix_solver(primes.p, n)\n",
    "    \n",
    "    for smooth in smooth_numbers:\n",
    "        matrix.add(smooth)\n",
    "    pd.options.display.expand_frame_repr = False\n",
    "    solve = matrix.solve(smooth_numbers)\n",
    "    return solve"
   ]
  },
  {
   "cell_type": "markdown",
   "id": "63c2b005-8e1b-4ef1-ae8b-4a458d451e77",
   "metadata": {
    "tags": []
   },
   "source": [
    "## index"
   ]
  },
  {
   "cell_type": "code",
   "execution_count": 21,
   "id": "b40459b5-cba8-4d3b-8295-bba37c17b6f7",
   "metadata": {},
   "outputs": [
    {
     "name": "stdout",
     "output_type": "stream",
     "text": [
      "primes len 1585\n",
      "step: 100\n",
      "Total number of smooth numbers: 12\n",
      "    i     q()                razl  del    1                   1  1\n",
      "0   0     352  [5, 1, 0, 0, 0, 0]  [0]  735  [5, 1, 0, 0, 0, 0]  1\n",
      "1  15   22627  [0, 3, 0, 1, 0, 0]  [1]  750  [0, 3, 0, 1, 0, 0]  1\n",
      "2  16   24128  [6, 0, 1, 0, 0, 1]  [2]  751  [6, 0, 1, 0, 0, 1]  1\n",
      "3  22   33176  [3, 1, 1, 0, 0, 1]  [3]  757  [3, 1, 1, 0, 0, 1]  1\n",
      "4  48   73216  [9, 1, 1, 0, 0, 0]  [4]  783  [9, 1, 1, 0, 0, 0]  1\n",
      "5  66  101728  [5, 1, 0, 2, 0, 0]  [5]  801  [5, 1, 0, 2, 0, 0]  1\n",
      "6  74  114608  [4, 0, 1, 0, 1, 1]  [6]  809  [4, 0, 1, 0, 1, 1]  1\n",
      "7 -62  -86944  [5, 1, 1, 0, 1, 0]  [7]  673  [5, 1, 1, 0, 1, 0]  1 (8, 7)\n",
      "----\n",
      "    i     q()                razl              del                1                    1       1\n",
      "0   0     352  [1, 0, 0, 1, 0, 0]           [0, 1]           551250   [5, 4, 0, 1, 0, 0]       1\n",
      "1  15   22627  [0, 1, 0, 1, 0, 0]              [1]              750   [0, 3, 0, 1, 0, 0]       1\n",
      "2  16   24128  [0, 0, 1, 0, 0, 0]           [2, 4]           588033  [26, 2, 3, 0, 0, 2]       1\n",
      "3  22   33176  [0, 0, 0, 0, 0, 0]        [3, 0, 2]        417852645   [7, 1, 1, 0, 0, 1]  530816\n",
      "4  48   73216  [0, 0, 0, 0, 0, 1]        [4, 0, 2]        432204255  [20, 2, 2, 0, 0, 1]       1\n",
      "5  66  101728  [0, 0, 0, 0, 0, 0]           [5, 0]           588735   [5, 1, 0, 1, 0, 0]    5984\n",
      "6  74  114608  [0, 0, 0, 0, 1, 0]           [6, 2]           607559  [10, 0, 2, 0, 1, 2]       1\n",
      "7 -62  -86944  [0, 0, 0, 0, 0, 0]  [7, 0, 2, 6, 4]  235316632064535  [46, 4, 6, 0, 2, 4]       1 (8, 7)\n"
     ]
    },
    {
     "data": {
      "text/plain": [
       "[277, 1949]"
      ]
     },
     "execution_count": 21,
     "metadata": {},
     "output_type": "execute_result"
    }
   ],
   "source": [
    "Factor(n, B)"
   ]
  },
  {
   "cell_type": "code",
   "execution_count": null,
   "id": "d1a8c556-3307-4a17-a2c9-dc11d20d264d",
   "metadata": {},
   "outputs": [],
   "source": []
  }
 ],
 "metadata": {
  "kernelspec": {
   "display_name": "Python 3 (ipykernel)",
   "language": "python",
   "name": "python3"
  },
  "language_info": {
   "codemirror_mode": {
    "name": "ipython",
    "version": 3
   },
   "file_extension": ".py",
   "mimetype": "text/x-python",
   "name": "python",
   "nbconvert_exporter": "python",
   "pygments_lexer": "ipython3",
   "version": "3.9.1"
  }
 },
 "nbformat": 4,
 "nbformat_minor": 5
}
