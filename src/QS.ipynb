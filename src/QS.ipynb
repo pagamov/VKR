{
 "cells": [
  {
   "cell_type": "code",
   "execution_count": 1,
   "id": "b421e572-c243-43fc-bcc7-dfc124505dd0",
   "metadata": {},
   "outputs": [],
   "source": [
    "# n = 104729 * 103591\n",
    "# step = 25000\n",
    "# B = 25000"
   ]
  },
  {
   "cell_type": "code",
   "execution_count": 2,
   "id": "2bbad970-7002-47ca-bfc7-c4286c8d1557",
   "metadata": {},
   "outputs": [],
   "source": [
    "n = 97 * 31\n",
    "B = 30\n",
    "step = 50"
   ]
  },
  {
   "cell_type": "code",
   "execution_count": 3,
   "id": "782290a3-b64f-4839-83cf-2e4a830b28c1",
   "metadata": {},
   "outputs": [],
   "source": [
    "import decimal\n",
    "import numpy as np\n",
    "from time import time"
   ]
  },
  {
   "cell_type": "markdown",
   "id": "2d54ec95-84f1-49b4-97f2-0c8805e8f4c7",
   "metadata": {
    "jp-MarkdownHeadingCollapsed": true,
    "tags": []
   },
   "source": [
    "## lib.py"
   ]
  },
  {
   "cell_type": "code",
   "execution_count": 4,
   "id": "33bdff9b-8e02-4276-a698-b6b53b1cfb2d",
   "metadata": {
    "tags": []
   },
   "outputs": [],
   "source": [
    "def GCD(m,n):\n",
    "    mult = 1\n",
    "    if m > n:\n",
    "        m = m % n\n",
    "    elif n > m:\n",
    "        n = n % m\n",
    "\n",
    "    while True:\n",
    "        if m == 0 or n == 0 or m == n:\n",
    "            return mult*max(n,m)\n",
    "        if m == 1 or n == 1:\n",
    "            return mult\n",
    "\n",
    "        mm2 = m % 2\n",
    "        nm2 = n % 2\n",
    "        if mm2 == 0 and nm2 == 0:\n",
    "            mult *= 2\n",
    "            m = m//2\n",
    "            n = n//2\n",
    "        elif mm2 == 0 and nm2 != 0:\n",
    "            m = m//2\n",
    "        elif mm2 != 0 and nm2 == 0:\n",
    "            n = n//2\n",
    "        elif mm2 != 0 and nm2 != 0:\n",
    "            if n > m:\n",
    "                piv = (n-m)//2\n",
    "                n = m\n",
    "                m = piv\n",
    "            elif n < m:\n",
    "                m = (m-n)//2"
   ]
  },
  {
   "cell_type": "code",
   "execution_count": 5,
   "id": "4b2e5e1f-3b8b-4ef9-bcad-8a2718b7e030",
   "metadata": {
    "tags": []
   },
   "outputs": [],
   "source": [
    "def eratosthenes(n):\n",
    "    numbers = list(range(2, n + 1))\n",
    "    for number in numbers:\n",
    "        if number != 0:\n",
    "            for candidate in range(2 * number, n+1, number):\n",
    "                numbers[candidate-2] = 0\n",
    "    return list(filter(lambda x: x != 0, numbers))"
   ]
  },
  {
   "cell_type": "code",
   "execution_count": 6,
   "id": "eed3f9d4-a654-48d9-bef4-8c627d28756a",
   "metadata": {
    "tags": []
   },
   "outputs": [],
   "source": [
    "class Q:\n",
    "    def __init__(self,n):\n",
    "        self.n = n\n",
    "        self.m = int(decimal.Decimal(n).sqrt() + 1)\n",
    "    def __call__(self,x):\n",
    "        return (x + self.m)**2 - self.n"
   ]
  },
  {
   "cell_type": "code",
   "execution_count": 7,
   "id": "19a01828-5cfc-4f8b-b1c8-3e1fb5ce38cc",
   "metadata": {
    "tags": []
   },
   "outputs": [],
   "source": [
    "def legendre(a, p):\n",
    "    return pow(a, (p - 1) // 2, p)"
   ]
  },
  {
   "cell_type": "code",
   "execution_count": 8,
   "id": "aa5e48b1-607a-4db4-be0d-9ebcdb8b9623",
   "metadata": {
    "tags": []
   },
   "outputs": [],
   "source": [
    "def tonelli(n, p):\n",
    "    assert legendre(n, p) == 1, \"not a square (mod p)\"\n",
    "    q = p - 1\n",
    "    s = 0\n",
    "    while q % 2 == 0:\n",
    "        q //= 2\n",
    "        s += 1\n",
    "    if s == 1:\n",
    "        return pow(n, (p + 1) // 4, p)\n",
    "\n",
    "    z = 2\n",
    "    for z in range(2, p):\n",
    "        if p - 1 == legendre(z, p):\n",
    "            break\n",
    "    c = pow(z, q, p)\n",
    "    r = pow(n, (q + 1) // 2, p)\n",
    "    t = pow(n, q, p)\n",
    "    m = s\n",
    "    t2 = 0\n",
    "    while (t - 1) % p != 0:\n",
    "        t2 = (t * t) % p\n",
    "        for i in range(1, m):\n",
    "            if (t2 - 1) % p == 0:\n",
    "                break\n",
    "            t2 = (t2 * t2) % p\n",
    "        b = pow(c, 1 << (m - i - 1), p)\n",
    "        r = (r * b) % p\n",
    "        c = (b * b) % p\n",
    "        t = (t * c) % p\n",
    "        m = i\n",
    "    return r"
   ]
  },
  {
   "cell_type": "code",
   "execution_count": 9,
   "id": "6b92e55f-a151-4fad-806d-81d46ad005df",
   "metadata": {},
   "outputs": [],
   "source": [
    "def smooth_region(L1, L2, q, primes):\n",
    "    res0 = list(range(L1, L2))\n",
    "    res1 = np.array([q(x) for x in range(L1, L2)])\n",
    "    res2 = np.zeros((len(res0), len(primes)), dtype=\"int8\")\n",
    "\n",
    "    s = [[] for _ in range(len(primes.r))]\n",
    "    for smooth_idx, prime in enumerate(primes):\n",
    "        for r in primes.r[smooth_idx]:\n",
    "            k = L1 // prime\n",
    "            while r + k*prime >= L1:\n",
    "                k -= 1\n",
    "            k+=1\n",
    "            s[smooth_idx].append(r + k*prime)\n",
    "\n",
    "    for prime_idx, prime in enumerate(primes):\n",
    "        for s_i in s[prime_idx]:\n",
    "            if s_i < L2:\n",
    "                # гарантируем что начиная с s_1 - L1, каждое число через prime\n",
    "                # делится на этот prime хотя бы 1 раз\n",
    "                res2[s_i - L1::prime, prime_idx] += 1\n",
    "                res1[s_i - L1::prime] //= prime\n",
    "                # дальнешее деление проверяется вручную\n",
    "                for smooth_idx in range(s_i, L2, prime):\n",
    "                    x = smooth_idx - L1\n",
    "                    while res1[x] % prime == 0:\n",
    "                        res1[x] //= prime\n",
    "                        res2[x, prime_idx] += 1\n",
    "\n",
    "    ans = []\n",
    "    for smooth_idx, qx in enumerate(res1):\n",
    "        if abs(qx) == 1:\n",
    "            ans.append([res0[smooth_idx],q(res0[smooth_idx]),np.copy(res2[smooth_idx])])\n",
    "            \n",
    "    return ans"
   ]
  },
  {
   "cell_type": "markdown",
   "id": "88ce42d6-5e1f-4647-aa27-8a899ff58e0c",
   "metadata": {
    "tags": []
   },
   "source": [
    "## Primes"
   ]
  },
  {
   "cell_type": "code",
   "execution_count": 10,
   "id": "273d4a54-31c0-4460-8fa7-f180389d37c8",
   "metadata": {
    "tags": []
   },
   "outputs": [],
   "source": [
    "class Primes:\n",
    "    def __init__(self, n, B, q):\n",
    "        primes = eratosthenes(B)\n",
    "        self.p = []\n",
    "        self.r = []\n",
    "        q = Q(n)\n",
    "\n",
    "        if legendre(n % primes[0], primes[0]) == 1:\n",
    "            tr = tonelli(n,primes[0])\n",
    "            r = [(tr - q.m) % primes[0]]\n",
    "            self.p.append(primes[0])\n",
    "            self.r.append(r)\n",
    "\n",
    "        # Для каждого прайма проверяем Лежандра и находим корни Тонелли Шенксом\n",
    "        for i in range(1,len(primes)):\n",
    "            if legendre(n % primes[i], primes[i]) == 1:\n",
    "                tr = tonelli(n,primes[i])\n",
    "                r = [(tr - q.m) % primes[i],(primes[i] - tr - q.m) % primes[i]]\n",
    "                self.p.append(primes[i])\n",
    "                self.r.append(r)\n",
    "\n",
    "        print(\"primes len\",len(self.p))\n",
    "    def __getitem__(self,i):\n",
    "        return self.p[i]\n",
    "    def __len__(self):\n",
    "        return len(self.p)"
   ]
  },
  {
   "cell_type": "markdown",
   "id": "c908918b-c9d2-451d-9877-0e84219c560b",
   "metadata": {
    "tags": []
   },
   "source": [
    "## colors"
   ]
  },
  {
   "cell_type": "code",
   "execution_count": 11,
   "id": "b747bed0-6437-45b1-9d7d-a194bbf8d11e",
   "metadata": {
    "jupyter": {
     "source_hidden": true
    },
    "tags": []
   },
   "outputs": [],
   "source": [
    "class bcolors:\n",
    "    HEADER = '\\033[95m'\n",
    "    OKBLUE = '\\033[94m'\n",
    "    OKCYAN = '\\033[96m'\n",
    "    OKGREEN = '\\033[92m'\n",
    "    WARNING = '\\033[93m'\n",
    "    FAIL = '\\033[91m'\n",
    "    ENDC = '\\033[0m'\n",
    "    BOLD = '\\033[1m'\n",
    "    UNDERLINE = '\\033[4m'\n",
    "\n",
    "def color(data,col):\n",
    "    \"\"\"\n",
    "    data: object which will be colored\n",
    "    col:  string representing color. possible values are:\n",
    "        ['data', '%', 'time', 'strong']\n",
    "    \"\"\"\n",
    "    if col == \"data\":\n",
    "        # pink\n",
    "        return bcolors.HEADER+str(data)+bcolors.ENDC\n",
    "    elif col == \"%\":\n",
    "        # green (leave two digits after dot)\n",
    "        return bcolors.OKGREEN+\"{:.02f}\".format(float(data))+bcolors.ENDC+\" %\"\n",
    "    elif col == \"time\":\n",
    "        # light blue\n",
    "        return bcolors.OKCYAN+str(data)+bcolors.ENDC+\" sec\"\n",
    "    elif col == \"strong\":\n",
    "        # red\n",
    "        return bcolors.FAIL+str(data)+bcolors.ENDC"
   ]
  },
  {
   "cell_type": "markdown",
   "id": "f62b9797-8860-4571-9de2-24ae8146a206",
   "metadata": {
    "tags": []
   },
   "source": [
    "## Sieve"
   ]
  },
  {
   "cell_type": "code",
   "execution_count": 12,
   "id": "a778fed7-c491-49a7-8860-7eae58cd71ab",
   "metadata": {
    "jupyter": {
     "source_hidden": true
    },
    "tags": []
   },
   "outputs": [],
   "source": [
    "def suive(q, primes):\n",
    "    print(\"step:\",step)\n",
    "    k = 1\n",
    "    # found_smooth = 0\n",
    "    smooth_numbers = []\n",
    "    while q((k-1)*step) < n:\n",
    "        ans = smooth_region((k-1)*step,k*step,q,primes)\n",
    "        for i in range(len(ans)):\n",
    "            smooth_numbers.append(ans[i])\n",
    "        ans = smooth_region(-k*step,-(k-1)*step,q,primes)\n",
    "        for i in range(len(ans)):\n",
    "            smooth_numbers.append(ans[i])\n",
    "        k+=1\n",
    "        print(\"Total number of smooth numbers:\",len(smooth_numbers))\n",
    "        if len(smooth_numbers) > len(primes):\n",
    "            # Выброс из функции\n",
    "            return smooth_numbers"
   ]
  },
  {
   "cell_type": "markdown",
   "id": "b4aba8ac-6994-481d-aa00-68e1a9feac09",
   "metadata": {},
   "source": [
    "## Matrix solver"
   ]
  },
  {
   "cell_type": "code",
   "execution_count": 13,
   "id": "3e2ae0f5-c1d8-47b7-93fc-efe037eeadd3",
   "metadata": {},
   "outputs": [],
   "source": [
    "class Matrix_solver:\n",
    "    def __init__(self, primes):\n",
    "        self.matrix = []\n",
    "        self.primes = primes\n",
    "        self.gaus = []\n",
    "        self.num_smooth_numbers = 0\n",
    "        self.matrix = np.zeros((len(primes), len(primes)), dtype='uint8')\n",
    "\n",
    "    def add(self, smooth_number):\n",
    "        if(self.num_smooth_numbers == len(self.primes)):\n",
    "            return False\n",
    "        self.matrix[:,self.num_smooth_numbers] = smooth_number\n",
    "        self.num_smooth_numbers += 1\n",
    "\n",
    "    def solve(self,smooth_numbers):\n",
    "        # c++ matrix solve\n",
    "\n",
    "        ans = [None,None]\n",
    "        lineal_rows = gaus_solve(self.matrix)\n",
    "\n",
    "        for zero_column in range(len(lineal_rows[0])):\n",
    "            b = [] #indexes of smooth numbers i guess\n",
    "            for i in range(len(lineal_rows)):\n",
    "                if lineal_rows[i][zero_column]:\n",
    "                    b.append(i)\n",
    "            # got vector b as indexes of posible ans\n",
    "\n",
    "            left = 1\n",
    "            right = []\n",
    "            for i in b:\n",
    "                left *= int(decimal.Decimal(n).sqrt() + 1) + smooth_numbers[i][0]\n",
    "                right.append(smooth_numbers[i][2])\n",
    "            true_right = int(1)\n",
    "\n",
    "            right_piv = np.zeros(len(self.primes), int)\n",
    "\n",
    "            print(len(right), right[0][0])\n",
    "            for r in right:\n",
    "                right_piv += r\n",
    "            \n",
    "            for j in range(len(right_piv)):\n",
    "                right_piv[j] //= 2\n",
    "\n",
    "            for j in range(len(right_piv)):\n",
    "                true_right *= pow(self.primes[j], int(right_piv[j]))\n",
    "\n",
    "            gcd = min(GCD(abs(int(left+true_right)), n), GCD(abs(int(left-true_right)), n))\n",
    "            if gcd > 1 and (n // gcd) * gcd == n:\n",
    "                print(color(\"Solve Done\",'strong'))\n",
    "                ans = [gcd, n//gcd]\n",
    "                break\n",
    "            else:\n",
    "                print(\"guess was\",color('wrong', 'strong'),\"keep search!\\n\")\n",
    "        return ans"
   ]
  },
  {
   "cell_type": "markdown",
   "id": "416b1fa1-66c1-4c37-ab08-264c261e532a",
   "metadata": {},
   "source": [
    "## Factor"
   ]
  },
  {
   "cell_type": "code",
   "execution_count": 14,
   "id": "72cd33f2-e69f-46a5-9b7d-562a73e85b33",
   "metadata": {},
   "outputs": [],
   "source": [
    "def Factor(n,B):\n",
    "    pass"
   ]
  },
  {
   "cell_type": "markdown",
   "id": "63c2b005-8e1b-4ef1-ae8b-4a458d451e77",
   "metadata": {
    "tags": []
   },
   "source": [
    "## index"
   ]
  },
  {
   "cell_type": "code",
   "execution_count": 15,
   "id": "dbe09718-a456-4514-99ee-0d5916a1937b",
   "metadata": {},
   "outputs": [
    {
     "name": "stdout",
     "output_type": "stream",
     "text": [
      "primes len 8\n",
      "step: 50\n",
      "Total number of smooth numbers: 31\n"
     ]
    },
    {
     "data": {
      "text/plain": [
       "31"
      ]
     },
     "execution_count": 15,
     "metadata": {},
     "output_type": "execute_result"
    }
   ],
   "source": [
    "q = Q(n)\n",
    "primes = Primes(n,B,q)\n",
    "len(primes)\n",
    "smooth_numbers = suive(q,primes)\n",
    "len(smooth_numbers)"
   ]
  },
  {
   "cell_type": "code",
   "execution_count": 16,
   "id": "40fcaee2-6a04-446b-a829-d14343710d66",
   "metadata": {},
   "outputs": [],
   "source": [
    "matrix = Matrix_solver(primes.p)"
   ]
  },
  {
   "cell_type": "code",
   "execution_count": 17,
   "id": "3f1bd999-964a-4a8a-a17c-32fb1c599722",
   "metadata": {},
   "outputs": [],
   "source": [
    "for smooth in smooth_numbers:\n",
    "    matrix.add(smooth[2])"
   ]
  },
  {
   "cell_type": "code",
   "execution_count": 18,
   "id": "c5773516-7b15-4204-b9dc-70843cb11747",
   "metadata": {},
   "outputs": [
    {
     "data": {
      "text/plain": [
       "array([[1, 1, 0, 1, 0, 1, 1, 0],\n",
       "       [2, 0, 1, 1, 2, 1, 1, 1],\n",
       "       [0, 0, 1, 1, 0, 1, 0, 2],\n",
       "       [0, 2, 0, 0, 2, 0, 0, 1],\n",
       "       [0, 0, 0, 0, 0, 0, 1, 0],\n",
       "       [0, 0, 1, 1, 0, 0, 0, 0],\n",
       "       [0, 0, 0, 0, 0, 0, 1, 0],\n",
       "       [0, 0, 0, 0, 0, 1, 0, 0]], dtype=uint8)"
      ]
     },
     "execution_count": 18,
     "metadata": {},
     "output_type": "execute_result"
    }
   ],
   "source": [
    "matrix.matrix"
   ]
  },
  {
   "cell_type": "code",
   "execution_count": 19,
   "id": "80c0b4c6-ebb7-42e8-87a3-b1eb0f5e2117",
   "metadata": {},
   "outputs": [],
   "source": [
    "# # possibe outcome [None,None] or if we LUCKY give ans as [gcd,n//gcd]\n",
    "# solve = matrix.solve(smooth_numbers)"
   ]
  },
  {
   "cell_type": "code",
   "execution_count": 20,
   "id": "05a4156f-d0e4-45f8-ad5c-f3db7a280d5e",
   "metadata": {},
   "outputs": [
    {
     "name": "stdout",
     "output_type": "stream",
     "text": [
      "[2, 3, 7, 11, 13, 17, 19, 29]\n"
     ]
    }
   ],
   "source": [
    "print(primes.p)"
   ]
  },
  {
   "cell_type": "code",
   "execution_count": 21,
   "id": "5068ba6c-fe4e-4abe-a37d-a8e56e281d19",
   "metadata": {},
   "outputs": [
    {
     "name": "stdout",
     "output_type": "stream",
     "text": [
      "[[0], [0, 1], [3, 6], [9, 2], [8, 12], [3, 6], [11, 12], [10, 25]]\n"
     ]
    }
   ],
   "source": [
    "print(primes.r)"
   ]
  },
  {
   "cell_type": "code",
   "execution_count": 22,
   "id": "f3a77fcb-58d5-4725-9c69-f688e3d31f06",
   "metadata": {},
   "outputs": [
    {
     "data": {
      "text/plain": [
       "[[0, 18, array([1, 2, 0, 0, 0, 0, 0, 0], dtype=int8)],\n",
       " [2, 242, array([1, 0, 0, 2, 0, 0, 0, 0], dtype=int8)],\n",
       " [3, 357, array([0, 1, 1, 0, 0, 1, 0, 0], dtype=int8)],\n",
       " [6, 714, array([1, 1, 1, 0, 0, 1, 0, 0], dtype=int8)],\n",
       " [9, 1089, array([0, 2, 0, 2, 0, 0, 0, 0], dtype=int8)],\n",
       " [10, 1218, array([1, 1, 1, 0, 0, 0, 0, 1], dtype=int8)],\n",
       " [12, 1482, array([1, 1, 0, 0, 1, 0, 1, 0], dtype=int8)],\n",
       " [13, 1617, array([0, 1, 2, 1, 0, 0, 0, 0], dtype=int8)],\n",
       " [20, 2618, array([1, 0, 1, 1, 0, 1, 0, 0], dtype=int8)],\n",
       " [24, 3234, array([1, 1, 2, 1, 0, 0, 0, 0], dtype=int8)],\n",
       " [25, 3393, array([0, 2, 0, 0, 1, 0, 0, 1], dtype=int8)],\n",
       " [31, 4389, array([0, 1, 1, 1, 0, 0, 1, 0], dtype=int8)],\n",
       " [34, 4914, array([1, 3, 1, 0, 1, 0, 0, 0], dtype=int8)],\n",
       " [-48, -2958, array([1, 1, 0, 0, 0, 1, 0, 1], dtype=int8)],\n",
       " [-46, -2926, array([1, 0, 1, 1, 0, 0, 1, 0], dtype=int8)],\n",
       " [-45, -2907, array([0, 2, 0, 0, 0, 1, 1, 0], dtype=int8)],\n",
       " [-36, -2646, array([1, 3, 2, 0, 0, 0, 0, 0], dtype=int8)],\n",
       " [-33, -2523, array([0, 1, 0, 0, 0, 0, 0, 2], dtype=int8)],\n",
       " [-31, -2431, array([0, 0, 0, 1, 1, 1, 0, 0], dtype=int8)],\n",
       " [-27, -2223, array([0, 2, 0, 0, 1, 0, 1, 0], dtype=int8)],\n",
       " [-26, -2166, array([1, 1, 0, 0, 0, 0, 2, 0], dtype=int8)],\n",
       " [-20, -1782, array([1, 4, 0, 1, 0, 0, 0, 0], dtype=int8)],\n",
       " [-18, -1638, array([1, 2, 1, 0, 1, 0, 0, 0], dtype=int8)],\n",
       " [-14, -1326, array([1, 1, 0, 0, 1, 1, 0, 0], dtype=int8)],\n",
       " [-11, -1071, array([0, 2, 1, 0, 0, 1, 0, 0], dtype=int8)],\n",
       " [-9, -891, array([0, 4, 0, 1, 0, 0, 0, 0], dtype=int8)],\n",
       " [-8, -798, array([1, 1, 1, 0, 0, 0, 1, 0], dtype=int8)],\n",
       " [-5, -507, array([0, 1, 0, 0, 2, 0, 0, 0], dtype=int8)],\n",
       " [-4, -406, array([1, 0, 1, 0, 0, 0, 0, 1], dtype=int8)],\n",
       " [-2, -198, array([1, 2, 0, 1, 0, 0, 0, 0], dtype=int8)],\n",
       " [-1, -91, array([0, 0, 1, 0, 1, 0, 0, 0], dtype=int8)]]"
      ]
     },
     "execution_count": 22,
     "metadata": {},
     "output_type": "execute_result"
    }
   ],
   "source": [
    "smooth_numbers"
   ]
  },
  {
   "cell_type": "code",
   "execution_count": null,
   "id": "40c1268f-a88a-4642-aae0-3709635d2b66",
   "metadata": {},
   "outputs": [],
   "source": []
  }
 ],
 "metadata": {
  "kernelspec": {
   "display_name": "Python 3 (ipykernel)",
   "language": "python",
   "name": "python3"
  },
  "language_info": {
   "codemirror_mode": {
    "name": "ipython",
    "version": 3
   },
   "file_extension": ".py",
   "mimetype": "text/x-python",
   "name": "python",
   "nbconvert_exporter": "python",
   "pygments_lexer": "ipython3",
   "version": "3.7.2rc1"
  }
 },
 "nbformat": 4,
 "nbformat_minor": 5
}
